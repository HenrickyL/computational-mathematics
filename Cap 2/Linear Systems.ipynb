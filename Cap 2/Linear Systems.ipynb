{
 "cells": [
  {
   "cell_type": "markdown",
   "id": "b51158b6",
   "metadata": {},
   "source": [
    "# Sistemas Lineares\n",
    "\n",
    "implementações"
   ]
  },
  {
   "cell_type": "code",
   "execution_count": 1,
   "id": "f05a2f14",
   "metadata": {},
   "outputs": [],
   "source": [
    "import numpy as np\n",
    "import matplotlib.pyplot as plt"
   ]
  },
  {
   "cell_type": "markdown",
   "id": "a9bb49fc",
   "metadata": {},
   "source": [
    "## Substituição Retroativa\n",
    "\n",
    "\n",
    "$$\n",
    "\\begin{cases}\n",
    "    2 x_1 + 3 x_2 -1 x_3 =5\\\\\\\\\n",
    "    0 x_1 -2x_2 -1x_3 =-7\\\\\\\\\n",
    "    0 x_1 + 0 x_2 +5x_3  =15\n",
    "\\end{cases}\n",
    "$$\n",
    "\n",
    "$$A\\cdot x = b$$\n",
    "\n",
    "$$\n",
    "\\left(\\begin{array}{cc} \n",
    "2 & 3 & -1 \\\\\n",
    "0 &-2 & -1 \\\\\n",
    "0 & 0 & 5 \n",
    "\\end{array}\\right)\n",
    "\\left(\\begin{array}{c} \n",
    "x_1\\\\ \n",
    "x_2\\\\\n",
    "x_3\n",
    "\\end{array}\\right)\n",
    "=\n",
    "\\left(\\begin{array}{c} \n",
    "5\\\\ \n",
    "-7\\\\\n",
    "15\n",
    "\\end{array}\\right)\n",
    "$$ \n"
   ]
  },
  {
   "cell_type": "code",
   "execution_count": 7,
   "id": "bceae8f0",
   "metadata": {},
   "outputs": [],
   "source": [
    "\"\"\"\n",
    "A - matriz extendida\n",
    "nEq - ordem da matriz\n",
    "nL - num linhas\n",
    "nC - num colunas\n",
    "x - solução\n",
    "\"\"\"\n",
    "def sretro(A):\n",
    "    nC = len(A[0])\n",
    "    nEq = nC-1\n",
    "    b = [row[nC-1] for row in A]\n",
    "    x = np.zeros(nEq)\n",
    "    for i in range(nEq,0,-1):\n",
    "        I = i-1\n",
    "        x[I]=b[I]\n",
    "        sumRes = 0\n",
    "        #aux = \"x[{0}] = b[{0}] - (\".format(I)\n",
    "        for j in range(i,nEq):\n",
    "         #   aux += \"A[{0}][{1}]*x[{1}]\".format(I,j)\n",
    "            sumRes = sumRes + A[I][j]*x[j]\n",
    "        #aux += ') / A[{0}][{0}]'.format(I)\n",
    "        #print(aux)\n",
    "        if(A[I][I] != 0):\n",
    "            x[I] = (x[I]-sumRes)/A[I][I]\n",
    "        elif(x[I]-sumRes != 0):\n",
    "            raise Exception(\"Impossible system\")\n",
    "        else:\n",
    "            raise Exception(\"Indeterminate system\")\n",
    "    return x"
   ]
  },
  {
   "cell_type": "code",
   "execution_count": 8,
   "id": "95820968",
   "metadata": {},
   "outputs": [
    {
     "name": "stdout",
     "output_type": "stream",
     "text": [
      "[[ 2.  3. -1.  5.]\n",
      " [ 0. -2. -1. -7.]\n",
      " [ 0.  0.  5. 15.]]\n",
      "2.0X1+ 3.0X2+ -1.0X3+  =  5.0 \n",
      "\n",
      "0.0X1+ -2.0X2+ -1.0X3+  =  -7.0 \n",
      "\n",
      "0.0X1+ 0.0X2+ 5.0X3+  =  15.0 \n",
      "\n",
      "[1. 2. 3.]\n"
     ]
    }
   ],
   "source": [
    "#main\n",
    "A = np.loadtxt('solve_sretro.txt')\n",
    "N = len(A[0])-1\n",
    "print(A)\n",
    "for i in range(len(A)):\n",
    "    for j in range(len(A[0])):\n",
    "        if(j < len(A[0])-1):\n",
    "            print('{0}X{1}+'.format(A[i][j],j+1), end=' ')\n",
    "        else:\n",
    "            print(' = ',A[i][j], end=' ')\n",
    "    print('\\n')\n",
    "\n",
    "res = sretro(A)\n",
    "print(res)"
   ]
  },
  {
   "cell_type": "markdown",
   "id": "6e728f6f",
   "metadata": {},
   "source": [
    "## Método de Gauss sem pivoteamento\n",
    "\n",
    "\n",
    "$$\n",
    "\\begin{cases}\n",
    "    2 x_1 + 3 x_2 -1 x_3 =5\\\\\\\\\n",
    "    4 x_1 + 4 x_2 -3 x_3 =3\\\\\\\\\n",
    "    2 x_1 - 3 x_2 +1 x_3  =-1\n",
    "\\end{cases}\n",
    "$$\n",
    "\n",
    "$$A\\cdot x = b$$\n",
    "\n",
    "$$\n",
    "\\left(\\begin{array}{cc} \n",
    "2 & 3 & -1 \\\\\n",
    "4 & 4 & -3 \\\\\n",
    "1 & -3 & 1 \n",
    "\\end{array}\\right)\n",
    "\\left(\\begin{array}{c} \n",
    "x_1\\\\ \n",
    "x_2\\\\\n",
    "x_3\n",
    "\\end{array}\\right)\n",
    "=\n",
    "\\left(\\begin{array}{c} \n",
    "5\\\\ \n",
    "3\\\\\n",
    "-1\n",
    "\\end{array}\\right)\n",
    "$$ \n",
    "\n"
   ]
  },
  {
   "cell_type": "code",
   "execution_count": 19,
   "id": "e02eef3a",
   "metadata": {},
   "outputs": [],
   "source": [
    "\"\"\"\n",
    "A - matriz extendida\n",
    "nEq - ordem da matriz\n",
    "nL - num linhas\n",
    "nC - num colunas\n",
    "x - solução\n",
    "\"\"\"\n",
    "def gauss(A):\n",
    "    nL= len(A)\n",
    "    nC = len(A[0])\n",
    "    nEq = nC-1\n",
    "    posPivo=0\n",
    "    for i in range(0,nEq-1):\n",
    "        pivo = A[i][i]\n",
    "        posPivo=i\n",
    "        # calc multiples\n",
    "        m = np.zeros(nL)\n",
    "        for k in range(i+1,nL):\n",
    "#            print('m[{0}] = - A[{0}][{1}]/A[{0}][{0}]'.format(k,0),\"= -{0}/{1}\".format(A[k][0],pivo))\n",
    "            m[k] = - A[k][posPivo]/pivo\n",
    "        # Operações\n",
    "        for j in range(posPivo+1,nL):\n",
    "            #print('L({0})={1}, m({0})={2}'.format(j,A[j],m[j]))\n",
    "            A[j] = m[j]*A[posPivo]+A[j]\n",
    "    return A\n",
    "        "
   ]
  },
  {
   "cell_type": "code",
   "execution_count": 21,
   "id": "50667913",
   "metadata": {},
   "outputs": [
    {
     "name": "stdout",
     "output_type": "stream",
     "text": [
      "[[ 2.  3. -1.  5.]\n",
      " [ 4.  4. -3.  3.]\n",
      " [ 2. -3.  1. -1.]]\n"
     ]
    },
    {
     "data": {
      "text/plain": [
       "array([1., 2., 3.])"
      ]
     },
     "execution_count": 21,
     "metadata": {},
     "output_type": "execute_result"
    }
   ],
   "source": [
    "A = np.loadtxt('ex_gauss.txt')\n",
    "print(A)\n",
    "res = gauss(A)\n",
    "sretro(res)"
   ]
  },
  {
   "cell_type": "markdown",
   "id": "cd73877c",
   "metadata": {},
   "source": [
    "## Gauss com pivoteamento"
   ]
  },
  {
   "cell_type": "code",
   "execution_count": 25,
   "id": "964613b5",
   "metadata": {},
   "outputs": [],
   "source": [
    "\"\"\"\n",
    "A - matriz extendida\n",
    "nEq - ordem da matriz\n",
    "nL - num linhas\n",
    "nC - num colunas\n",
    "x - solução\n",
    "\"\"\"\n",
    "def gauss(A):\n",
    "    nL= len(A)\n",
    "    nC = len(A[0])\n",
    "    nEq = nC-1\n",
    "    posPivo=0\n",
    "    for i in range(0,nEq-1):\n",
    "        pivo = A[i][i]\n",
    "        #pivoteamento #max([row[i] for row in A])\n",
    "        maior = max([row[i] for row in A])\n",
    "        print(\"M:\",maior)\n",
    "        if(pivo <  maior):\n",
    "            for l in range(i,nL):\n",
    "                if(A[l][i] > pivo):\n",
    "                    A[i],A[l] = A[l],A[i]\n",
    "                    print(A)\n",
    "                    pivo = A[i][i]\n",
    "        posPivo=i\n",
    "        # calc multiples\n",
    "        m = np.zeros(nL)\n",
    "        for k in range(i+1,nL):\n",
    "#            print('m[{0}] = - A[{0}][{1}]/A[{0}][{0}]'.format(k,0),\"= -{0}/{1}\".format(A[k][0],pivo))\n",
    "            m[k] = - A[k][posPivo]/pivo\n",
    "        # Operações\n",
    "        for j in range(posPivo+1,nL):\n",
    "            #print('L({0})={1}, m({0})={2}'.format(j,A[j],m[j]))\n",
    "            A[j] = m[j]*A[posPivo]+A[j]\n",
    "    return A\n",
    "        "
   ]
  },
  {
   "cell_type": "code",
   "execution_count": 26,
   "id": "f470355b",
   "metadata": {},
   "outputs": [
    {
     "name": "stdout",
     "output_type": "stream",
     "text": [
      "[[ 3. -4.  1.  9.]\n",
      " [ 1.  2.  2.  3.]\n",
      " [ 4.  0. -3. -2.]]\n",
      "M: 4.0\n",
      "[[ 4.  0. -3. -2.]\n",
      " [ 1.  2.  2.  3.]\n",
      " [ 4.  0. -3. -2.]]\n",
      "M: 2.0\n"
     ]
    },
    {
     "data": {
      "text/plain": [
       "array([[ 4.  ,  0.  , -3.  , -2.  ],\n",
       "       [ 0.  ,  2.  ,  2.75,  3.5 ],\n",
       "       [ 0.  ,  0.  ,  0.  ,  0.  ]])"
      ]
     },
     "execution_count": 26,
     "metadata": {},
     "output_type": "execute_result"
    }
   ],
   "source": [
    "A = np.loadtxt('solve_sretro.txt')\n",
    "print(A)\n",
    "gauss(A)"
   ]
  },
  {
   "cell_type": "code",
   "execution_count": null,
   "id": "f86df773",
   "metadata": {},
   "outputs": [],
   "source": []
  }
 ],
 "metadata": {
  "kernelspec": {
   "display_name": "Python 3 (ipykernel)",
   "language": "python",
   "name": "python3"
  },
  "language_info": {
   "codemirror_mode": {
    "name": "ipython",
    "version": 3
   },
   "file_extension": ".py",
   "mimetype": "text/x-python",
   "name": "python",
   "nbconvert_exporter": "python",
   "pygments_lexer": "ipython3",
   "version": "3.9.7"
  }
 },
 "nbformat": 4,
 "nbformat_minor": 5
}
