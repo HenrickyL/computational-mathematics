{
 "cells": [
  {
   "cell_type": "markdown",
   "metadata": {},
   "source": [
    "# Matemática Computacional - Trabalho 1\n",
    "\n",
    "## Equipe:\n",
    "* Henricky de  Lima Monteiro - 475075\n",
    "* João Almir da Costa Junior - 470034\n",
    "* \n",
    "\n"
   ]
  },
  {
   "cell_type": "code",
   "execution_count": 1,
   "metadata": {},
   "outputs": [],
   "source": [
    "#base imports\n",
    "import numpy as np\n",
    "import matplotlib.pyplot as plt"
   ]
  },
  {
   "cell_type": "markdown",
   "metadata": {},
   "source": [
    "------------------------\n",
    "### Q1) Implementar:\n",
    "#### a) Eliminação de Gauss\n",
    "\n",
    "Inicialmente vamos escrever a substituição retroativa para testar o método de Gauss."
   ]
  },
  {
   "cell_type": "code",
   "execution_count": 2,
   "metadata": {},
   "outputs": [],
   "source": [
    "# Substituição Retroativa\n",
    "\"\"\"\n",
    "A - matriz extendida\n",
    "nEq - ordem da matriz\n",
    "nL - num linhas\n",
    "nC - num colunas\n",
    "x - solução\n",
    "\"\"\"\n",
    "def sretro(A):\n",
    "    nC = len(A[0])\n",
    "    nEq = nC-1\n",
    "    b = [row[nC-1] for row in A]\n",
    "    x = np.zeros(nEq)\n",
    "    for i in range(nEq,0,-1):\n",
    "        I = i-1\n",
    "        x[I]=b[I]\n",
    "        sumRes = 0\n",
    "        #aux = \"x[{0}] = b[{0}] - (\".format(I)\n",
    "        for j in range(i,nEq):\n",
    "         #   aux += \"A[{0}][{1}]*x[{1}]\".format(I,j)\n",
    "            sumRes = sumRes + A[I][j]*x[j]\n",
    "        #aux += ') / A[{0}][{0}]'.format(I)\n",
    "        #print(aux)\n",
    "        if(A[I][I] != 0):\n",
    "            x[I] = (x[I]-sumRes)/A[I][I]\n",
    "        elif(x[I]-sumRes != 0):\n",
    "            raise Exception(\"Impossible system\")\n",
    "        else:\n",
    "            raise Exception(\"Indeterminate system\")\n",
    "    return x"
   ]
  },
  {
   "cell_type": "markdown",
   "metadata": {},
   "source": [
    "Agora vamos implementar a eliminação de gauss da forma simples, sem pivoteamento."
   ]
  },
  {
   "cell_type": "code",
   "execution_count": null,
   "metadata": {},
   "outputs": [],
   "source": [
    "\n",
    "\"\"\"\n",
    "A - matriz extendida\n",
    "nEq - ordem da matriz\n",
    "nL - num linhas\n",
    "nC - num colunas\n",
    "x - solução\n",
    "\"\"\"\n",
    "def gauss(A):\n",
    "    nL= len(A)\n",
    "    nC = len(A[0])\n",
    "    nEq = nC-1\n",
    "    posPivo=0\n",
    "    for i in range(0,nEq-1):\n",
    "        pivo = A[i][i]\n",
    "        posPivo=i\n",
    "        # calc multiples\n",
    "        m = np.zeros(nL)\n",
    "        for k in range(i+1,nL):\n",
    "#            print('m[{0}] = - A[{0}][{1}]/A[{0}][{0}]'.format(k,0),\"= -{0}/{1}\".format(A[k][0],pivo))\n",
    "            m[k] = - A[k][posPivo]/pivo\n",
    "        # Operações\n",
    "        for j in range(posPivo+1,nL):\n",
    "            #print('L({0})={1}, m({0})={2}'.format(j,A[j],m[j]))\n",
    "            A[j] = m[j]*A[posPivo]+A[j]\n",
    "    return A"
   ]
  },
  {
   "cell_type": "markdown",
   "metadata": {},
   "source": [
    "#### b) Métodos de Jacobi e Gauss-Seidel"
   ]
  },
  {
   "cell_type": "code",
   "execution_count": 20,
   "metadata": {},
   "outputs": [
    {
     "name": "stdout",
     "output_type": "stream",
     "text": [
      "[[ 0.   2.   3. ]\n",
      " [ 4.   0.1  6. ]\n",
      " [ 7.   8.  -0.9]]\n",
      "[[ 4.   0.1  6. ]\n",
      " [ 7.   8.  -0.9]\n",
      " [ 0.   2.   3. ]]\n"
     ]
    }
   ],
   "source": [
    "def ajustePivoteamento(A):\n",
    "    for i in range(len(A)):\n",
    "        pivo = A[i][i]\n",
    "        col = [row[i] for row in A]\n",
    "        if( pivo < 1 and pivo >-1):\n",
    "            indexMax = col.index(max(col))\n",
    "            A[[i,indexMax]] = A[[indexMax,i]]\n",
    "    return A\n",
    "    \n",
    "A = np.array([[0,2,3],[4,0.1,6],[7,8,-0.9]])\n",
    "print(A)\n",
    "res=ajustePivoteamento(A)\n",
    "print(res)\n"
   ]
  },
  {
   "cell_type": "code",
   "execution_count": 18,
   "metadata": {},
   "outputs": [
    {
     "data": {
      "text/plain": [
       "[[-2.0, -1.0, 7.0], [-1.0, -1.0, -8.0], [-2.0, -3.0, 6.0]]"
      ]
     },
     "execution_count": 18,
     "metadata": {},
     "output_type": "execute_result"
    }
   ],
   "source": [
    "\n",
    "def EqGeral(A):\n",
    "    nL= len(A)\n",
    "    nC = len(A[0])\n",
    "    nEq = nC-1\n",
    "    eG = []\n",
    "    div = A.diagonal()\n",
    "    \n",
    "    # for i in range(nL):\n",
    "    #     eG.append(A[i])\n",
    "    \n",
    "    for i in range(nL):\n",
    "        aux = []\n",
    "        for j in range(nC):\n",
    "            if(j== nC-1):\n",
    "                aux.append(A[i][j])              \n",
    "            elif(i != j):\n",
    "                aux.append(A[i][j]*-1)    \n",
    "        eG.append(aux.copy())\n",
    "        aux.clear()\n",
    "\n",
    "    return eG\n",
    "\n",
    "EqGeral(np.loadtxt(\"ex_jacobi.txt\"))\n",
    "\n",
    "    "
   ]
  },
  {
   "cell_type": "code",
   "execution_count": 19,
   "metadata": {},
   "outputs": [
    {
     "name": "stdout",
     "output_type": "stream",
     "text": [
      "[[-2.0, -1.0, 7.0], [-1.0, -1.0, -8.0], [-2.0, -3.0, 6.0]]\n"
     ]
    }
   ],
   "source": [
    "# Método de Jacobi\n",
    "\"\"\"\n",
    "A - matriz extendida\n",
    "nEq - ordem da matriz\n",
    "nL - num linhas\n",
    "nC - num colunas\n",
    "x - solução\n",
    "\"\"\"\n",
    "\n",
    "def Jacobi(A, x0 ,E, k):\n",
    "    teste = EqGeral(A)\n",
    "    print (teste)\n",
    "\n",
    "Jacobi(np.loadtxt(\"ex_jacobi.txt\"),0,0,0)"
   ]
  },
  {
   "cell_type": "code",
   "execution_count": null,
   "metadata": {},
   "outputs": [],
   "source": []
  }
 ],
 "metadata": {
  "interpreter": {
   "hash": "b3ba2566441a7c06988d0923437866b63cedc61552a5af99d1f4fb67d367b25f"
  },
  "kernelspec": {
   "display_name": "Python 3.9.7 ('base')",
   "language": "python",
   "name": "python3"
  },
  "language_info": {
   "codemirror_mode": {
    "name": "ipython",
    "version": 3
   },
   "file_extension": ".py",
   "mimetype": "text/x-python",
   "name": "python",
   "nbconvert_exporter": "python",
   "pygments_lexer": "ipython3",
   "version": "3.10.4"
  },
  "orig_nbformat": 4
 },
 "nbformat": 4,
 "nbformat_minor": 2
}
