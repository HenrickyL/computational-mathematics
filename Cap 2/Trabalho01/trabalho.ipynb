{
 "cells": [
  {
   "cell_type": "markdown",
   "metadata": {},
   "source": [
    "# Matemática Computacional - Trabalho 1\n",
    "\n",
    "## Equipe:\n",
    "* Henricky de  Lima Monteiro - 475075\n",
    "* João Almir da Costa Junior - 470034\n",
    "* \n",
    "\n"
   ]
  },
  {
   "cell_type": "code",
   "execution_count": 47,
   "metadata": {},
   "outputs": [],
   "source": [
    "#base imports\n",
    "import numpy as np\n",
    "import matplotlib.pyplot as plt"
   ]
  },
  {
   "cell_type": "markdown",
   "metadata": {},
   "source": [
    "------------------------\n",
    "### Q1) Implementar:\n",
    "#### a) Eliminação de Gauss\n",
    "\n",
    "Inicialmente vamos escrever a substituição retroativa para testar o método de Gauss."
   ]
  },
  {
   "cell_type": "code",
   "execution_count": 48,
   "metadata": {},
   "outputs": [],
   "source": [
    "# Substituição Retroativa\n",
    "\"\"\"\n",
    "A - matriz extendida\n",
    "nEq - ordem da matriz\n",
    "nL - num linhas\n",
    "nC - num colunas\n",
    "x - solução\n",
    "\"\"\"\n",
    "def sretro(A):\n",
    "    nC = len(A[0])\n",
    "    nEq = nC-1\n",
    "    b = [row[nC-1] for row in A]\n",
    "    x = np.zeros(nEq)\n",
    "    for i in range(nEq,0,-1):\n",
    "        I = i-1\n",
    "        x[I]=b[I]\n",
    "        sumRes = 0\n",
    "        #aux = \"x[{0}] = b[{0}] - (\".format(I)\n",
    "        for j in range(i,nEq):\n",
    "         #   aux += \"A[{0}][{1}]*x[{1}]\".format(I,j)\n",
    "            sumRes = sumRes + A[I][j]*x[j]\n",
    "        #aux += ') / A[{0}][{0}]'.format(I)\n",
    "        #print(aux)\n",
    "        if(A[I][I] != 0):\n",
    "            x[I] = (x[I]-sumRes)/A[I][I]\n",
    "        elif(x[I]-sumRes != 0):\n",
    "            raise Exception(\"Impossible system\")\n",
    "        else:\n",
    "            raise Exception(\"Indeterminate system\")\n",
    "    return x"
   ]
  },
  {
   "cell_type": "markdown",
   "metadata": {},
   "source": [
    "Agora vamos implementar a eliminação de gauss da forma simples, sem pivoteamento."
   ]
  },
  {
   "cell_type": "code",
   "execution_count": 49,
   "metadata": {},
   "outputs": [],
   "source": [
    "\n",
    "\"\"\"\n",
    "A - matriz extendida\n",
    "nEq - ordem da matriz\n",
    "nL - num linhas\n",
    "nC - num colunas\n",
    "x - solução\n",
    "\"\"\"\n",
    "def gauss(A):\n",
    "    nL= len(A)\n",
    "    nC = len(A[0])\n",
    "    nEq = nC-1\n",
    "    posPivo=0\n",
    "    for i in range(0,nEq-1):\n",
    "        pivo = A[i][i]\n",
    "        posPivo=i\n",
    "        # calc multiples\n",
    "        m = np.zeros(nL)\n",
    "        for k in range(i+1,nL):\n",
    "#            print('m[{0}] = - A[{0}][{1}]/A[{0}][{0}]'.format(k,0),\"= -{0}/{1}\".format(A[k][0],pivo))\n",
    "            m[k] = - A[k][posPivo]/pivo\n",
    "        # Operações\n",
    "        for j in range(posPivo+1,nL):\n",
    "            #print('L({0})={1}, m({0})={2}'.format(j,A[j],m[j]))\n",
    "            A[j] = m[j]*A[posPivo]+A[j]\n",
    "    return A"
   ]
  },
  {
   "cell_type": "markdown",
   "metadata": {},
   "source": [
    "#### b) Métodos de Jacobi e Gauss-Seidel"
   ]
  },
  {
   "cell_type": "code",
   "execution_count": 50,
   "metadata": {},
   "outputs": [
    {
     "name": "stdout",
     "output_type": "stream",
     "text": [
      "[[ 0.   2.   3. ]\n",
      " [ 4.   0.1  6. ]\n",
      " [ 7.   8.  -0.9]]\n",
      "[[ 4.   0.1  6. ]\n",
      " [ 7.   8.  -0.9]\n",
      " [ 0.   2.   3. ]]\n"
     ]
    }
   ],
   "source": [
    "def ajustePivoteamento(A):\n",
    "    for i in range(len(A)):\n",
    "        pivo = A[i][i]\n",
    "        col = [row[i] for row in A]\n",
    "        if( pivo < 1 and pivo >-1):\n",
    "            indexMax = col.index(max(col))\n",
    "            A[[i,indexMax]] = A[[indexMax,i]]\n",
    "    return A\n",
    "    \n",
    "A = np.array([[0,2,3],[4,0.1,6],[7,8,-0.9]])\n",
    "print(A)\n",
    "res=ajustePivoteamento(A)\n",
    "print(res)\n"
   ]
  },
  {
   "cell_type": "markdown",
   "metadata": {},
   "source": [
    "##### b.1) Método de Jacobi\n",
    "\n",
    "Para este método, foi necessário criar uma função ```EqGeral``` que cria uma matriz com os operadores para a equação geral que nos leva para o proximo passo da interação."
   ]
  },
  {
   "cell_type": "code",
   "execution_count": 59,
   "metadata": {},
   "outputs": [
    {
     "name": "stdout",
     "output_type": "stream",
     "text": [
      "# X: [0. 0.] 0.0 \n",
      "Xa= [0. 0.] k= 0\n",
      ">>X= [1.25 1.25] k= 2 E= 1.5\n",
      "next E= 0.75\n",
      ">>X= [1.125 0.875] k= 3 E= 0.75\n",
      "next E= 0.125\n",
      ">>X= [0.9375 0.9375] k= 4 E= 0.125\n",
      "next E= 0.0625\n",
      ">>X= [0.96875 1.03125] k= 5 E= 0.0625\n",
      "next E= 0.09375\n",
      ">>X= [1.015625 1.015625] k= 6 E= 0.09375\n",
      "next E= 0.046875\n",
      ">>X= [1.0078125 0.9921875] k= 7 E= 0.046875\n",
      "next E= 0.0078125\n",
      ">>X= [0.99609375 0.99609375] k= 8 E= 0.0078125\n",
      "next E= 0.00390625\n",
      ">>X= [0.99804688 1.00195312] k= 9 E= 0.00390625\n",
      "next E= 0.005859375\n",
      ">>X= [1.00097656 1.00097656] k= 10 E= 0.005859375\n",
      "next E= 0.0029296875\n",
      "--------\n",
      "E: 0.0029296875\n",
      "X [1.00097656 1.00097656] k:  10\n",
      "\n",
      "\n",
      "\n",
      "\n",
      "# X: [0. 0. 0.] 1.6 \n",
      "Xa= [ 0.7 -1.6  0.6] k= 0\n",
      ">>X= [ 0.978 -1.98   0.966] k= 2 E= 0.3400000000000001\n",
      "next E= 0.1200000000000001\n",
      ">>X= [ 0.9994 -1.9888  0.9984] k= 3 E= 0.1200000000000001\n",
      "next E= 0.032399999999999984\n",
      "--------\n",
      "E: 0.032399999999999984\n",
      "X [ 0.9994 -1.9888  0.9984] k:  3\n",
      "\n",
      "\n",
      "\n",
      "\n"
     ]
    },
    {
     "data": {
      "text/plain": [
       "array([ 0.9994, -1.9888,  0.9984])"
      ]
     },
     "execution_count": 59,
     "metadata": {},
     "output_type": "execute_result"
    }
   ],
   "source": [
    "# Método de Jacobi\n",
    "\"\"\"\n",
    "A - matriz extendida\n",
    "nEq - ordem da matriz\n",
    "nL - num linhas\n",
    "nC - num colunas\n",
    "x - solução\n",
    "\"\"\"\n",
    "def EqGeral(A):\n",
    "    nL= len(A)\n",
    "    nC = len(A[0])\n",
    "    eG = []\n",
    "    \n",
    "    for i in range(nL):\n",
    "        aux = []\n",
    "        for j in range(nC):\n",
    "            if(i==j):\n",
    "                aux.append(None)         \n",
    "            elif(j == nC-1):\n",
    "                continue\n",
    "            else:\n",
    "                aux.append(A[i][j]*-1)    \n",
    "        eG.append(aux.copy())\n",
    "        aux.clear()\n",
    "\n",
    "    return np.array(eG)\n",
    "\n",
    "def Jacobi(A,E,maxK=15, isX0Zeros=False):\n",
    "    nL= len(A)\n",
    "    nC = len(A[0])\n",
    "    k=0\n",
    "    #get b's - independentes\n",
    "    b = [row[nC-1] for row in A]\n",
    "    #divisores\n",
    "    div = A.diagonal()\n",
    "    #definindo x0 - solução\n",
    "    Xa = np.zeros(nC-1) #X_anterior - X0\n",
    "    #define a solução\n",
    "    X = np.zeros(nC-1) \n",
    "    if(not isX0Zeros):\n",
    "        for i in range(len(Xa)):\n",
    "            Xa[i]= b[i]/div[i]\n",
    "\n",
    "    #pega a equação geral\n",
    "    EG = EqGeral(A)\n",
    "    #Aplicando\n",
    "    print('#','X:',X,max(X-Xa),'\\nXa=',Xa, 'k=',k)\n",
    "    k=k+1\n",
    "    for i in range(nL):\n",
    "        soma = b[i]\n",
    "        for j in range(nC-1):\n",
    "            termo = EG[i][j]\n",
    "            if(termo != None):\n",
    "                xj = Xa[j]\n",
    "                soma += xj*termo\n",
    "        X[i] = soma/div[i]\n",
    "\n",
    "    # print('X',X)\n",
    "    Varify = abs(max(abs(X)-abs(Xa)))\n",
    "    while( k < maxK and Varify > E ):\n",
    "        k=k+1\n",
    "        Xa = X.copy()\n",
    "        X = np.zeros(nC-1) \n",
    "        for i in range(nL):\n",
    "            soma = b[i]\n",
    "            for j in range(nC-1):\n",
    "                termo = EG[i][j]\n",
    "                if(termo != None):\n",
    "                    xj = Xa[j]\n",
    "                    soma += xj*termo\n",
    "            X[i] = soma/div[i]\n",
    "\n",
    "        print('>>X=',X, 'k=',k, 'E=',Varify)\n",
    "        Varify = abs(max(abs(X)-abs(Xa)))\n",
    "        print('next E=',Varify)\n",
    "\n",
    "\n",
    "    print('--------\\nE:',max(X-Xa))\n",
    "    print('X',X, 'k: ', k)\n",
    "    print('\\n\\n\\n')\n",
    "    \n",
    "    return X\n",
    "\n",
    "Jacobi(np.loadtxt(\"ex_jacobi.txt\"),0.001, maxK=10, isX0Zeros=True)\n",
    "Jacobi(np.loadtxt(\"exVideo.txt\"),0.05)\n"
   ]
  },
  {
   "cell_type": "markdown",
   "metadata": {},
   "source": [
    "##### b.2) Método de Gauss-Seidel\n"
   ]
  },
  {
   "cell_type": "code",
   "execution_count": 62,
   "metadata": {},
   "outputs": [
    {
     "name": "stdout",
     "output_type": "stream",
     "text": [
      "# X: [0. 0.] 0.0 \n",
      "Xa= [0. 0.] k= 0\n",
      ">>X= [1.125  0.9375] k= 2 E= 1.25\n",
      "next E= 0.625\n",
      ">>X= [0.96875  1.015625] k= 3 E= 0.625\n",
      "next E= 0.078125\n",
      ">>X= [1.0078125  0.99609375] k= 4 E= 0.078125\n",
      "next E= 0.0390625\n",
      ">>X= [0.99804688 1.00097656] k= 5 E= 0.0390625\n",
      "next E= 0.0048828125\n",
      ">>X= [1.00048828 0.99975586] k= 6 E= 0.0048828125\n",
      "next E= 0.00244140625\n",
      ">>X= [0.99987793 1.00006104] k= 7 E= 0.00244140625\n",
      "next E= 0.00030517578125\n",
      "--------\n",
      "E: 0.00030517578125\n",
      "X [0.99987793 1.00006104] k:  7\n",
      "\n",
      "\n",
      "\n",
      "\n",
      "# X: [0. 0. 0.] 0.0 \n",
      "Xa= [0. 0. 0.] k= 0\n",
      ">>X= [ 0.9498   -1.98636   1.005948] k= 2 E= 1.7399999999999998\n",
      "next E= 0.24980000000000013\n",
      ">>X= [ 0.9966772  -2.00052504  1.00082207] k= 3 E= 0.24980000000000013\n",
      "next E= 0.04687719999999984\n",
      "--------\n",
      "E: 0.04687719999999984\n",
      "X [ 0.9966772  -2.00052504  1.00082207] k:  3\n",
      "\n",
      "\n",
      "\n",
      "\n"
     ]
    },
    {
     "data": {
      "text/plain": [
       "array([ 0.9966772 , -2.00052504,  1.00082207])"
      ]
     },
     "execution_count": 62,
     "metadata": {},
     "output_type": "execute_result"
    }
   ],
   "source": [
    "def GaussSeidel(A,E,maxK=15, isX0Zeros=False):\n",
    "    nL= len(A)\n",
    "    nC = len(A[0])\n",
    "    k=0\n",
    "    #get b's - independentes\n",
    "    b = [row[nC-1] for row in A]\n",
    "    #divisores\n",
    "    div = A.diagonal()\n",
    "    #definindo x0 - solução\n",
    "    Xa = np.zeros(nC-1) #X_anterior - X0\n",
    "    #define a solução\n",
    "    X = np.zeros(nC-1) \n",
    "    # if(not isX0Zeros):\n",
    "    #     for i in range(len(Xa)):\n",
    "    #         Xa[i]= b[i]/div[i]\n",
    "\n",
    "    #pega a equação geral\n",
    "    EG = EqGeral(A)\n",
    "    #Aplicando\n",
    "    print('#','X:',X,max(X-Xa),'\\nXa=',Xa, 'k=',k)\n",
    "    k=k+1\n",
    "    for i in range(nL):\n",
    "        soma = b[i]\n",
    "        for j in range(nC-1):\n",
    "            termo = EG[i][j]\n",
    "            if(termo != None):\n",
    "                xj = X[j]\n",
    "                soma += xj*termo\n",
    "        X[i] = soma/div[i]\n",
    "\n",
    "    # print('X',X)\n",
    "    Varify = abs(max(abs(X)-abs(Xa)))\n",
    "    while( k < maxK and Varify > E ):\n",
    "        k=k+1\n",
    "        Xa = X.copy()\n",
    "        # X = np.zeros(nC-1) \n",
    "        for i in range(nL):\n",
    "            soma = b[i]\n",
    "            for j in range(nC-1):\n",
    "                termo = EG[i][j]\n",
    "                if(termo != None):\n",
    "                    xj = X[j]\n",
    "                    soma += xj*termo\n",
    "            X[i] = soma/div[i]\n",
    "\n",
    "        print('>>X=',X, 'k=',k, 'E=',Varify)\n",
    "        Varify = abs(max(abs(X)-abs(Xa)))\n",
    "        print('next E=',Varify)\n",
    "\n",
    "\n",
    "    print('--------\\nE:',max(X-Xa))\n",
    "    print('X',X, 'k: ', k)\n",
    "    print('\\n\\n\\n')\n",
    "    \n",
    "    return X\n",
    "\n",
    "GaussSeidel(np.loadtxt(\"ex_jacobi.txt\"),0.001, maxK=10, isX0Zeros=True)\n",
    "GaussSeidel(np.loadtxt(\"exVideo.txt\"),0.05)"
   ]
  },
  {
   "cell_type": "markdown",
   "metadata": {},
   "source": [
    "### 3) Implementar\n",
    "\n",
    "#### a) Método da bisecção"
   ]
  },
  {
   "cell_type": "code",
   "execution_count": 53,
   "metadata": {},
   "outputs": [
    {
     "name": "stdout",
     "output_type": "stream",
     "text": [
      "iter 10\n",
      "a -0.0009765625\n",
      "b 0.00048828125\n",
      "xk: -0.000244140625\n",
      "fxk -0.000732660322682932\n",
      "dif 0.00146484375 \n",
      "\n"
     ]
    }
   ],
   "source": [
    "def biseccao(a,b,F,E):\n",
    "    \n",
    "    aa = a \n",
    "    bb = b #usados para recuperar o a e b antigos na ultima iteração\n",
    "\n",
    "    xk = 0 #media entre a e b\n",
    "    fxk = 0 #função com xk como entrada\n",
    "    dif = 0 #diferenca entre a e b\n",
    "    iter = 0 #qtd de iteracoes\n",
    "\n",
    "    xk = (a+b)/2\n",
    "    fxk= F(xk)\n",
    "    dif = abs(a-b) \n",
    "\n",
    "\n",
    "    if((xk+b)/2)*fxk < 0:\n",
    "        a = xk\n",
    "    else:\n",
    "        b = xk\n",
    "    \n",
    "\n",
    "    while(abs(fxk) > E and abs(dif) > E ):\n",
    "        aa = a\n",
    "        bb = b\n",
    "\n",
    "        iter = iter + 1        \n",
    "        xk = (a+b)/2\n",
    "        fxk= F(xk)\n",
    "        dif = abs(a-b) \n",
    "\n",
    "        \n",
    "\n",
    "        if((xk+b)/2)*fxk < 0:\n",
    "            a = xk\n",
    "        else:\n",
    "            b = xk\n",
    "\n",
    "    print(\"iter\", iter)\n",
    "    print(\"a\", aa)\n",
    "    print(\"b\", bb)        \n",
    "    print(\"xk:\", xk)\n",
    "    print(\"fxk\", fxk)\n",
    "    print(\"dif\", dif,\"\\n\")    \n",
    "    \n",
    "biseccao(-1,0.5,lambda x:2*x**3 -4*x**2 + 3*x,0.001) "
   ]
  },
  {
   "cell_type": "markdown",
   "metadata": {},
   "source": [
    "#### b) Método da posição falsa"
   ]
  },
  {
   "cell_type": "code",
   "execution_count": 54,
   "metadata": {},
   "outputs": [
    {
     "data": {
      "image/png": "[encoded data removed]",
      "text/plain": [
       "<Figure size 432x288 with 1 Axes>"
      ]
     },
     "metadata": {
      "needs_background": "light"
     },
     "output_type": "display_data"
    },
    {
     "name": "stdout",
     "output_type": "stream",
     "text": [
      "iter 8\n",
      "a0: -0.4 , b0:  0.5\n",
      "a: -0.4 , b:  0.0001726301112925558\n",
      "xk: 0.0001726301112925558\n",
      "fxk 0.0005177711395455214\n",
      "dif 0.40044225532463235 \n",
      "\n"
     ]
    },
    {
     "data": {
      "image/png": "[encoded data removed]",
      "text/plain": [
       "<Figure size 432x288 with 1 Axes>"
      ]
     },
     "metadata": {
      "needs_background": "light"
     },
     "output_type": "display_data"
    },
    {
     "name": "stdout",
     "output_type": "stream",
     "text": [
      "iter 4\n",
      "a0: -1 , b0:  -0.1\n",
      "a: -1 , b:  -0.8764230304582485\n",
      "xk: -0.8764230304582485\n",
      "fxk -0.0003375545196749874\n",
      "dif 0.1255326637361358 \n",
      "\n"
     ]
    },
    {
     "data": {
      "image/png": "[encoded data removed]",
      "text/plain": [
       "<Figure size 432x288 with 1 Axes>"
      ]
     },
     "metadata": {
      "needs_background": "light"
     },
     "output_type": "display_data"
    },
    {
     "name": "stdout",
     "output_type": "stream",
     "text": [
      "iter 2\n",
      "a0: 1.4 , b0:  2.2\n",
      "a: 2.000386940580091 , b:  1.9899077590884418\n",
      "xk: 2.000386940580091\n",
      "fxk -0.0011605222363151313\n",
      "dif 0.06463769545701292 \n",
      "\n"
     ]
    },
    {
     "data": {
      "image/png": "[encoded data removed]",
      "text/plain": [
       "<Figure size 432x288 with 1 Axes>"
      ]
     },
     "metadata": {
      "needs_background": "light"
     },
     "output_type": "display_data"
    },
    {
     "name": "stdout",
     "output_type": "stream",
     "text": [
      "iter 4\n",
      "a0: 1 , b0:  1.2\n",
      "a: 1.0541263408994006 , b:  1.2\n",
      "xk: 1.0541263408994006\n",
      "fxk -1.8604573073233155e-06\n",
      "dif 0.14588018926309387 \n",
      "\n"
     ]
    }
   ],
   "source": [
    "def falsePosition(a,b,f,E, withGraph=True):\n",
    "    #valores iniciais\n",
    "    a0 = a\n",
    "    b0 = b\n",
    "\n",
    "    #grafico\n",
    "    if(withGraph):\n",
    "        step = abs(b-a)*0.05\n",
    "        x = np.arange(a0,b0+step,step)\n",
    "        y= f(x)\n",
    "        plt.xlabel('x')\n",
    "        plt.ylabel('f(x)')\n",
    "\n",
    "        plt.plot(x,y,'-r')\n",
    "        #dots\n",
    "        plt.plot(a0,f(a0),'ob')\n",
    "        plt.text(a0,f(a0),\"a0\")\n",
    "\n",
    "        plt.plot(b0,f(b0),'ob')\n",
    "        plt.text(b0,f(b0),'b0')\n",
    "\n",
    "        plt.axhline(y=0, color='k')\n",
    "\n",
    "\n",
    "\n",
    "\n",
    "    xk = 0 #ponto falso\n",
    "    fxk = 0 #função com xk como entrada\n",
    "    dif = 0 #diferenca entre a e b\n",
    "    iter = 0 #qtd de iteracoes\n",
    "\n",
    "    #verificação f(a0)*f(b0) < 0\n",
    "    if(f(a0)*f(b0)>=0):\n",
    "        print('impossível')\n",
    "        return\n",
    "\n",
    "\n",
    "\n",
    "    #usar uma função lambda para achar o novo valor apartir de A e B passados\n",
    "    getXk = lambda x,y: (x*f(y)-y*f(x))/(f(y)-f(x))\n",
    "    xk = getXk(a,b)\n",
    "    fxk= f(xk)\n",
    "    dif = abs(b-a) \n",
    "\n",
    "    #definindo o intervalo de verificação\n",
    "    if(xk*fxk < 0): #está do lado direito?\n",
    "        a = xk\n",
    "    else:\n",
    "        b = xk\n",
    "        \n",
    "        \n",
    "\n",
    "    while(abs(fxk) > E and abs(dif) > E and iter < 50 ):\n",
    "        iter = iter + 1        \n",
    "        xk = getXk(a,b)\n",
    "        fxk= f(xk)\n",
    "        dif = abs(b-a)\n",
    "\n",
    "        if(xk*fxk < 0): #está do lado direito?\n",
    "            a = xk\n",
    "        else:\n",
    "            b = xk\n",
    "            \n",
    "    if(withGraph):\n",
    "        plt.plot(xk,fxk,'og')\n",
    "        plt.text(xk,fxk,r'$\\varepsilon$')\n",
    "        plt.show()\n",
    "    print(\"iter\", iter)\n",
    "    print(\"a0:\", a0,\", b0: \", b0)\n",
    "    print(\"a:\", a,\", b: \", b)\n",
    "    print(\"xk:\", xk)\n",
    "    print(\"fxk\", fxk)\n",
    "    print(\"dif\", dif,\"\\n\")\n",
    "\n",
    "\n",
    "falsePosition(-0.4,0.5,lambda x: 2*x**3 -4*x**2+3*x , 0.001)\n",
    "falsePosition(-1,-0.1,lambda x: np.sin(x)+x**2 , 0.001)\n",
    "\n",
    "falsePosition(1.4,2.2,lambda x: x**3 -4*x**2 + x+6 , 0.01)\n",
    "falsePosition(1,1.2,lambda x: np.exp(x)-np.sin(x)-2 , 0.00001)\n",
    "\n"
   ]
  },
  {
   "cell_type": "code",
   "execution_count": 58,
   "metadata": {},
   "outputs": [
    {
     "name": "stdout",
     "output_type": "stream",
     "text": [
      "[[1 2 3]\n",
      " [4 5 6]] \n",
      " [[1 2 3]\n",
      " [4 5 6]]\n",
      "[[1 2 3]\n",
      " [4 5 6]] \n",
      " [[-1  2  3]\n",
      " [ 4  5  6]]\n"
     ]
    }
   ],
   "source": [
    "\n",
    "\n"
   ]
  },
  {
   "cell_type": "code",
   "execution_count": null,
   "metadata": {},
   "outputs": [],
   "source": []
  },
  {
   "cell_type": "code",
   "execution_count": null,
   "metadata": {},
   "outputs": [],
   "source": []
  }
 ],
 "metadata": {
  "interpreter": {
   "hash": "369f2c481f4da34e4445cda3fffd2e751bd1c4d706f27375911949ba6bb62e1c"
  },
  "kernelspec": {
   "display_name": "Python 3.10.4 64-bit",
   "language": "python",
   "name": "python3"
  },
  "language_info": {
   "codemirror_mode": {
    "name": "ipython",
    "version": 3
   },
   "file_extension": ".py",
   "mimetype": "text/x-python",
   "name": "python",
   "nbconvert_exporter": "python",
   "pygments_lexer": "ipython3",
   "version": "3.10.4"
  },
  "orig_nbformat": 4
 },
 "nbformat": 4,
 "nbformat_minor": 2
}
