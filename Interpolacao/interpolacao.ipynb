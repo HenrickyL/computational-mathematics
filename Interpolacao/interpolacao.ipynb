{
 "cells": [
  {
   "cell_type": "markdown",
   "metadata": {},
   "source": [
    "# Interpolação\n",
    "\n",
    "\n",
    "## Lagrange\n",
    "$$p_n(x) = \\sum_{i=0}^{n} y_i \\cdot \\prod_ { j=0,\\ j \\neq i}^n \\dfrac{x-x_j}{x_i-x_j}$$"
   ]
  },
  {
   "cell_type": "markdown",
   "metadata": {},
   "source": []
  },
  {
   "cell_type": "code",
   "execution_count": 19,
   "metadata": {},
   "outputs": [],
   "source": [
    "import numpy as np\n",
    "import matplotlib.pyplot as plt"
   ]
  },
  {
   "cell_type": "code",
   "execution_count": 22,
   "metadata": {},
   "outputs": [
    {
     "name": "stdout",
     "output_type": "stream",
     "text": [
      "[[0.    0.   ]\n",
      " [0.2   2.008]\n",
      " [0.4   4.064]\n",
      " [0.5   5.125]]\n",
      "3.0269999999999992\n"
     ]
    },
    {
     "data": {
      "image/png": "[encoded data removed]",
      "text/plain": [
       "<Figure size 432x288 with 1 Axes>"
      ]
     },
     "metadata": {
      "needs_background": "light"
     },
     "output_type": "display_data"
    }
   ],
   "source": [
    "def interpLagrange(dots,x):\n",
    "    sum=0\n",
    "    prod=1\n",
    "    n = len(dots)\n",
    "    for i in range(n):\n",
    "        prod =1\n",
    "        for j in range(n):\n",
    "            if(j != i):\n",
    "                prod = prod*(x- dots[j][0])/(dots[i][0] - dots[j][0])\n",
    "        sum = sum + dots[i][1]*prod\n",
    "    return sum\n",
    "\n",
    "A = np.array(\n",
    "    [[0,0],\n",
    "    [0.2, 2.008],\n",
    "    [0.4,4.064],\n",
    "    [0.5, 5.125]]\n",
    ")\n",
    "print(A)\n",
    "print(interpLagrange(A,0.3))\n",
    "for i in range(len(A)):\n",
    "    x = A[i][0]\n",
    "    y = A[i][1]\n",
    "    plt.plot(x,y,'ob')\n",
    "\n",
    "x = np.arange(0,0.6, 0.05)\n",
    "fx = x**3+10*x \n",
    "plt.plot(x,fx,':r')\n",
    "plt.show()"
   ]
  },
  {
   "cell_type": "code",
   "execution_count": 33,
   "metadata": {},
   "outputs": [
    {
     "data": {
      "text/plain": [
       "-10"
      ]
     },
     "execution_count": 33,
     "metadata": {},
     "output_type": "execute_result"
    },
    {
     "data": {
      "image/png": "[encoded data removed]",
      "text/plain": [
       "<Figure size 432x288 with 1 Axes>"
      ]
     },
     "metadata": {
      "needs_background": "light"
     },
     "output_type": "display_data"
    }
   ],
   "source": [
    "f = lambda x: x**3 - 2*x**2 + 7\n",
    "f_ = lambda x: 3*x**2 - 4*x\n",
    "f__ = lambda x: 6*x - 4\n",
    "\n",
    "x = np.arange(-2,2,0.1)\n",
    "y = f(x)\n",
    "\n",
    "plt.plot(x,y, 'o:')\n",
    "plt.axhline(y=0, color='k')\n",
    "plt.axvline(x=0, color='k')\n",
    "f__(-2)\n",
    "f__(-1)\n"
   ]
  },
  {
   "cell_type": "code",
   "execution_count": null,
   "metadata": {},
   "outputs": [],
   "source": []
  }
 ],
 "metadata": {
  "interpreter": {
   "hash": "369f2c481f4da34e4445cda3fffd2e751bd1c4d706f27375911949ba6bb62e1c"
  },
  "kernelspec": {
   "display_name": "Python 3.10.4 64-bit",
   "language": "python",
   "name": "python3"
  },
  "language_info": {
   "codemirror_mode": {
    "name": "ipython",
    "version": 3
   },
   "file_extension": ".py",
   "mimetype": "text/x-python",
   "name": "python",
   "nbconvert_exporter": "python",
   "pygments_lexer": "ipython3",
   "version": "3.10.4"
  },
  "orig_nbformat": 4
 },
 "nbformat": 4,
 "nbformat_minor": 2
}
